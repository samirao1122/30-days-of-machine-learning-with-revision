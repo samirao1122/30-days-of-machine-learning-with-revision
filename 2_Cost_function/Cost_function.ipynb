{
 "cells": [
  {
   "cell_type": "code",
   "execution_count": 1,
   "id": "bc28ee6a-c173-495e-bd50-43fb2da94b54",
   "metadata": {},
   "outputs": [],
   "source": [
    "import numpy as np "
   ]
  },
  {
   "cell_type": "code",
   "execution_count": 2,
   "id": "b22222f4-7c68-4c6d-bb65-af75e556be77",
   "metadata": {},
   "outputs": [],
   "source": [
    "x=np.array([4,6,9,12])\n",
    "y=np.array([40,55,85,110])\n",
    "n=len(x)"
   ]
  },
  {
   "cell_type": "markdown",
   "id": "832ad39d-a6d2-4427-88dc-188bd30833e0",
   "metadata": {},
   "source": [
    "<h1>Slope</h1>"
   ]
  },
  {
   "cell_type": "code",
   "execution_count": 3,
   "id": "2d865141-c945-4af3-8dc3-4a2b2fcc94a3",
   "metadata": {},
   "outputs": [],
   "source": [
    "def finding_slope(x,y,n):\n",
    "    sum_x=np.sum(x)\n",
    "    sum_y=np.sum(y)\n",
    "    sum_x_y=np.sum(x*y)\n",
    "    numenator=(n*(sum_x_y))-(sum_x*sum_y)\n",
    "\n",
    "    square_x=x*x\n",
    "    square_sum_x=np.sum(square_x)\n",
    "    sum_square_x=sum_x*sum_x\n",
    "    denominator=(n*(square_sum_x)-sum_square_x)\n",
    "    slope=numenator/denominator\n",
    "    return slope\n",
    "        "
   ]
  },
  {
   "cell_type": "code",
   "execution_count": 8,
   "id": "0adb3bcd-f347-4950-bc25-b6a40c3c6d9b",
   "metadata": {},
   "outputs": [
    {
     "data": {
      "text/plain": [
       "8.91156462585034"
      ]
     },
     "execution_count": 8,
     "metadata": {},
     "output_type": "execute_result"
    }
   ],
   "source": [
    "m=finding_slope(x,y,n)\n",
    "m"
   ]
  },
  {
   "cell_type": "markdown",
   "id": "998d10ad-6aef-4782-bb05-bf6cdc2afeaa",
   "metadata": {},
   "source": [
    "<h1>Inertcept</h1>"
   ]
  },
  {
   "cell_type": "code",
   "execution_count": 9,
   "id": "873b0b07-6a2d-4506-93d2-217d258aefd2",
   "metadata": {},
   "outputs": [
    {
     "name": "stdout",
     "output_type": "stream",
     "text": [
      "3.4353741496598644\n"
     ]
    }
   ],
   "source": [
    "def intercept_b(x,y):\n",
    "    x_mean=np.mean(x)\n",
    "    y_mean=np.mean(y)            #value of intercept b\n",
    "    result=y_mean-((m)*x_mean)      \n",
    "    return result\n",
    "b=intercept_b(x,y)\n",
    "print(b)"
   ]
  },
  {
   "cell_type": "markdown",
   "id": "5f89d3c8-bd81-4f29-88ca-3f854fef6a58",
   "metadata": {},
   "source": [
    "<h1>Cost fucnction</h1> "
   ]
  },
  {
   "cell_type": "code",
   "execution_count": 15,
   "id": "06304083-c3bc-45de-81d9-55e5a52c3af7",
   "metadata": {},
   "outputs": [
    {
     "data": {
      "text/plain": [
       "0.034996991994079234"
      ]
     },
     "execution_count": 15,
     "metadata": {},
     "output_type": "execute_result"
    }
   ],
   "source": [
    "def cost_function(m,x,y,b):\n",
    "    m=m\n",
    "    b=b\n",
    "    n=4\n",
    "    for i in range (n):\n",
    "        f_x=(m*x[i])+b\n",
    "        cost=((f_x-y[i])**2)            #mean square error or cost function\n",
    "        cost+=cost\n",
    "        mean_cost=cost/(2*n)\n",
    "        \n",
    "    return mean_cost\n",
    "\n",
    "mean_square_error=cost_function(m,x,y,b)\n",
    "mean_square_error        "
   ]
  },
  {
   "cell_type": "code",
   "execution_count": null,
   "id": "7d512f55-e42b-427f-b4f9-0cbbd59fe968",
   "metadata": {},
   "outputs": [],
   "source": []
  }
 ],
 "metadata": {
  "kernelspec": {
   "display_name": "Python 3 (ipykernel)",
   "language": "python",
   "name": "python3"
  },
  "language_info": {
   "codemirror_mode": {
    "name": "ipython",
    "version": 3
   },
   "file_extension": ".py",
   "mimetype": "text/x-python",
   "name": "python",
   "nbconvert_exporter": "python",
   "pygments_lexer": "ipython3",
   "version": "3.11.7"
  }
 },
 "nbformat": 4,
 "nbformat_minor": 5
}
