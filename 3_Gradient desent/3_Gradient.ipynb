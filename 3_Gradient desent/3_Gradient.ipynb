{
 "cells": [
  {
   "cell_type": "markdown",
   "id": "f1c7c640-111e-4843-917b-ed734d8173e2",
   "metadata": {},
   "source": [
    "<h1>Compute gradient</h1>"
   ]
  },
  {
   "cell_type": "code",
   "execution_count": 6,
   "id": "83434cb6-d8af-4e4a-b405-d7592066dd28",
   "metadata": {},
   "outputs": [],
   "source": [
    "import numpy as np "
   ]
  },
  {
   "cell_type": "code",
   "execution_count": 7,
   "id": "d20b4344-5923-4bac-8977-23c74e50109e",
   "metadata": {},
   "outputs": [],
   "source": [
    "x=np.array([4,6,9,12])\n",
    "y=np.array([40,55,85,110])\n",
    "n=len(x)"
   ]
  },
  {
   "cell_type": "code",
   "execution_count": 8,
   "id": "37979e79-156a-4859-b9f1-43866e06ad32",
   "metadata": {},
   "outputs": [],
   "source": [
    "def finding_slope(x,y,n):\n",
    "    sum_x=np.sum(x)\n",
    "    sum_y=np.sum(y)\n",
    "    sum_x_y=np.sum(x*y)\n",
    "    numenator=(n*(sum_x_y))-(sum_x*sum_y)\n",
    "\n",
    "    square_x=x*x\n",
    "    square_sum_x=np.sum(square_x)\n",
    "    sum_square_x=sum_x*sum_x\n",
    "    denominator=(n*(square_sum_x)-sum_square_x)\n",
    "    slope=numenator/denominator\n",
    "    return slope"
   ]
  },
  {
   "cell_type": "code",
   "execution_count": 9,
   "id": "37fb77c6-9670-4edb-9a5b-68d5213f7ee1",
   "metadata": {},
   "outputs": [
    {
     "data": {
      "text/plain": [
       "8.91156462585034"
      ]
     },
     "execution_count": 9,
     "metadata": {},
     "output_type": "execute_result"
    }
   ],
   "source": [
    "m=finding_slope(x,y,n)\n",
    "m"
   ]
  },
  {
   "cell_type": "code",
   "execution_count": 10,
   "id": "3bdf1415-ecfb-492e-8cea-95ba5a4ce5fc",
   "metadata": {},
   "outputs": [
    {
     "name": "stdout",
     "output_type": "stream",
     "text": [
      "3.4353741496598644\n"
     ]
    }
   ],
   "source": [
    "def intercept_b(x,y):\n",
    "    x_mean=np.mean(x)\n",
    "    y_mean=np.mean(y)            #value of intercept b\n",
    "    result=y_mean-((m)*x_mean)      \n",
    "    return result\n",
    "b=intercept_b(x,y)\n",
    "print(b)"
   ]
  },
  {
   "cell_type": "code",
   "execution_count": 12,
   "id": "3212bb60-07e1-4f48-9cd9-477c9634df41",
   "metadata": {},
   "outputs": [],
   "source": [
    "def compute_gradient(x,y,w,b):\n",
    "    m=8\n",
    "    dw_sum=0\n",
    "    db_sum=0\n",
    "    for i in range (n):\n",
    "        f_x=(m * x[i] ) + b\n",
    "        d_w=((f_x - y [i])) * x[i]          #derivation of w  \n",
    "        dw_sum += d_w\n",
    "        \n",
    "        f_b=(m * x[i]) + b\n",
    "        d_b=(f_b-y[i])\n",
    "        db_sum+=d_b                           #derivation of b\n",
    "        \n",
    "    der_w=dw_sum/(n)\n",
    "    der_b=db_sum/(n)\n",
    "    \n",
    "        \n",
    "    return der_w,der_b\n",
    "\n",
    "\n"
   ]
  },
  {
   "cell_type": "code",
   "execution_count": null,
   "id": "8411ad64-e535-4d14-8683-25a9b23990c6",
   "metadata": {},
   "outputs": [],
   "source": []
  },
  {
   "cell_type": "code",
   "execution_count": null,
   "id": "1363bd93-d7a1-42b0-bb2b-4a7fecb791b6",
   "metadata": {},
   "outputs": [],
   "source": [
    "    "
   ]
  },
  {
   "cell_type": "code",
   "execution_count": null,
   "id": "f284cdfb-4d9a-44d8-a25a-2951b6d35e90",
   "metadata": {},
   "outputs": [],
   "source": []
  }
 ],
 "metadata": {
  "kernelspec": {
   "display_name": "Python 3 (ipykernel)",
   "language": "python",
   "name": "python3"
  },
  "language_info": {
   "codemirror_mode": {
    "name": "ipython",
    "version": 3
   },
   "file_extension": ".py",
   "mimetype": "text/x-python",
   "name": "python",
   "nbconvert_exporter": "python",
   "pygments_lexer": "ipython3",
   "version": "3.11.7"
  }
 },
 "nbformat": 4,
 "nbformat_minor": 5
}
