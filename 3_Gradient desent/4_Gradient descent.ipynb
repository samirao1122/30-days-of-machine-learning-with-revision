{
 "cells": [
  {
   "cell_type": "markdown",
   "id": "760078a8-b8d0-416f-a6a7-2386594a203e",
   "metadata": {},
   "source": [
    "<h1>Compute gradient descent</h1>"
   ]
  },
  {
   "cell_type": "code",
   "execution_count": 20,
   "id": "dc1037d8-e3c5-4e49-9494-21edddbf0051",
   "metadata": {},
   "outputs": [],
   "source": [
    "import numpy as np "
   ]
  },
  {
   "cell_type": "code",
   "execution_count": 21,
   "id": "68939d90-58a9-44ba-9da6-c37ada331bf3",
   "metadata": {},
   "outputs": [],
   "source": [
    "x=np.array([4,6,9,12])\n",
    "y=np.array([40,55,85,110])\n",
    "n=len(x)"
   ]
  },
  {
   "cell_type": "code",
   "execution_count": 22,
   "id": "8f30e60c-cb03-4f3a-9868-b0f71c993577",
   "metadata": {},
   "outputs": [],
   "source": [
    "def finding_slope(x,y,n):\n",
    "    sum_x=np.sum(x)\n",
    "    sum_y=np.sum(y)\n",
    "    sum_x_y=np.sum(x*y)\n",
    "    numenator=(n*(sum_x_y))-(sum_x*sum_y)\n",
    "\n",
    "    square_x=x*x\n",
    "    square_sum_x=np.sum(square_x)\n",
    "    sum_square_x=sum_x*sum_x\n",
    "    denominator=(n*(square_sum_x)-sum_square_x)\n",
    "    slope=numenator/denominator\n",
    "    return slope"
   ]
  },
  {
   "cell_type": "code",
   "execution_count": 23,
   "id": "afd6eaee-1475-47b2-87e8-4dc08910f162",
   "metadata": {},
   "outputs": [
    {
     "data": {
      "text/plain": [
       "8.91156462585034"
      ]
     },
     "execution_count": 23,
     "metadata": {},
     "output_type": "execute_result"
    }
   ],
   "source": [
    "m=finding_slope(x,y,n)\n",
    "m"
   ]
  },
  {
   "cell_type": "code",
   "execution_count": 24,
   "id": "8a4d457c-5b71-4fbc-a941-0ea3c36e98eb",
   "metadata": {},
   "outputs": [
    {
     "name": "stdout",
     "output_type": "stream",
     "text": [
      "3.4353741496598644\n"
     ]
    }
   ],
   "source": [
    "def intercept_b(x,y):\n",
    "    x_mean=np.mean(x)\n",
    "    y_mean=np.mean(y)            #value of intercept b\n",
    "    result=y_mean-((m)*x_mean)      \n",
    "    return result\n",
    "b=intercept_b(x,y)\n",
    "print(b)"
   ]
  },
  {
   "cell_type": "code",
   "execution_count": 25,
   "id": "0be32d5a-3fb2-4769-9113-0e190778ea83",
   "metadata": {},
   "outputs": [],
   "source": [
    "def compute_gradient(x,y,w,b):\n",
    "    m=8\n",
    "    dw_sum=0\n",
    "    db_sum=0\n",
    "    for i in range (n):\n",
    "        f_x=(m * x[i] ) + b\n",
    "        d_w=((f_x - y [i])) * x[i]          #derivation of w  \n",
    "        dw_sum += d_w\n",
    "        \n",
    "        f_b=(m * x[i]) + b\n",
    "        d_b=(f_b-y[i])\n",
    "        db_sum+=d_b                           #derivation of b\n",
    "        \n",
    "    der_w=dw_sum/(n)\n",
    "    der_b=db_sum/(n)\n",
    "    \n",
    "        \n",
    "    return der_w,der_b\n",
    "\n",
    "\n"
   ]
  },
  {
   "cell_type": "code",
   "execution_count": 26,
   "id": "ba363b20-62d7-4c9a-ac2b-8e9b878df4f9",
   "metadata": {},
   "outputs": [],
   "source": [
    "def compute_descent_gradient(x, y, w_in, b_in,alpha,cost_function, gradient_function):\n",
    "    w = w_in\n",
    "    b = b_in\n",
    "    num_iters=10\n",
    "    J_history = []  # Initialize correctly\n",
    "    p_history = []  # For tracking parameters\n",
    "    for i in range(num_iters):\n",
    "        # Get the gradients from the gradient_function (you need to implement this)\n",
    "        d_w, d_b = gradient_function(x, y, w, b)\n",
    "        \n",
    "        # Update the parameters w and b\n",
    "        w = w - alpha * d_w\n",
    "        b = b - alpha * d_b\n",
    "        \n",
    "        # Save cost J at each iteration\n",
    "        if i < 100000:  # prevent resource exhaustion\n",
    "            J_history.append(cost_function(x, y, w, b))\n",
    "            p_history.append([w, b])\n",
    "        \n",
    "      \n",
    "        if i % math.ceil(num_iters / 10) == 0:\n",
    "            print(f\"Iteration {i:4}: Cost {J_history[-1]:0.2e} \",\n",
    "                  f\"dj_dw: {d_w: 0.3e}, dj_db: {d_b: 0.3e}  \",\n",
    "                  f\"w: {w: 0.3e}, b: {b: 0.5e}\")\n",
    "    \n",
    "    return w, b, J_history, p_history\n"
   ]
  },
  {
   "cell_type": "code",
   "execution_count": null,
   "id": "87d9fec0-fd74-4496-b9a1-fb9c4774dad3",
   "metadata": {},
   "outputs": [],
   "source": []
  },
  {
   "cell_type": "code",
   "execution_count": null,
   "id": "bdb99624-5303-4791-b823-c47d48dcc1ec",
   "metadata": {},
   "outputs": [],
   "source": []
  }
 ],
 "metadata": {
  "kernelspec": {
   "display_name": "Python 3 (ipykernel)",
   "language": "python",
   "name": "python3"
  },
  "language_info": {
   "codemirror_mode": {
    "name": "ipython",
    "version": 3
   },
   "file_extension": ".py",
   "mimetype": "text/x-python",
   "name": "python",
   "nbconvert_exporter": "python",
   "pygments_lexer": "ipython3",
   "version": "3.11.7"
  }
 },
 "nbformat": 4,
 "nbformat_minor": 5
}
