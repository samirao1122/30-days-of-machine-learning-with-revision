{
 "cells": [
  {
   "cell_type": "markdown",
   "id": "1933d267-579a-471a-869d-f7f446304858",
   "metadata": {},
   "source": [
    "<h1>First of all finding the slope with slope formula </h1>"
   ]
  },
  {
   "cell_type": "markdown",
   "id": "6e6fe07a-8b53-40a5-976e-ad3e447061ff",
   "metadata": {},
   "source": [
    "**$$\n",
    " m= \\frac{ n \\sum x_i y_i - \\sum x_i \\sum y_i }{ n \\sum x_i^2 - (\\sum x_i)^2 }\n",
    "$$**\n"
   ]
  },
  {
   "cell_type": "code",
   "execution_count": 6,
   "id": "0f99c967-7aa9-441b-8abb-93eb8742125a",
   "metadata": {},
   "outputs": [],
   "source": [
    "def finding_slope(x,y,n):\n",
    "    sum_x=np.sum(x)\n",
    "    sum_y=np.sum(y)\n",
    "    sum_x_y=np.sum(x*y)\n",
    "    numenator=(n*(sum_x_y))-(sum_x*sum_y)\n",
    "\n",
    "    square_x=x*x\n",
    "    square_sum_x=np.sum(square_x)\n",
    "    sum_square_x=sum_x*sum_x\n",
    "    denominator=(n*(square_sum_x)-sum_square_x)\n",
    "    slope=numenator/denominator\n",
    "    return slope"
   ]
  },
  {
   "cell_type": "code",
   "execution_count": 7,
   "id": "5bfd274f-8e19-470f-84c8-21bc06054318",
   "metadata": {},
   "outputs": [],
   "source": [
    "m=finding_slope(x,y,n)"
   ]
  },
  {
   "cell_type": "code",
   "execution_count": 8,
   "id": "a1c67878-7f1f-40da-bd95-205e88532386",
   "metadata": {},
   "outputs": [
    {
     "data": {
      "text/plain": [
       "8.91156462585034"
      ]
     },
     "execution_count": 8,
     "metadata": {},
     "output_type": "execute_result"
    }
   ],
   "source": [
    "m"
   ]
  },
  {
   "cell_type": "markdown",
   "id": "3118aa3d-983e-40bf-9788-fe437e53a837",
   "metadata": {},
   "source": [
    "**then Find intercept......**"
   ]
  },
  {
   "cell_type": "markdown",
   "id": "269bcb1e-c6ff-465d-9eed-2ff22b0d0476",
   "metadata": {},
   "source": [
    "<h1>intercept formula</h1> "
   ]
  },
  {
   "cell_type": "markdown",
   "id": "60158f24-2662-4bab-a87b-27d6a5b7ef89",
   "metadata": {},
   "source": [
    "The formula for the intercept \n",
    "b in simple linear regression is:"
   ]
  },
  {
   "cell_type": "markdown",
   "id": "3f27ad7e-78eb-4013-ac8d-515cb6c74b4f",
   "metadata": {},
   "source": [
    "$$\n",
    "b= \\bar{y} - mx\n",
    "$$\n"
   ]
  },
  {
   "cell_type": "markdown",
   "id": "ab90c494-a8ef-4472-80ba-f8575d2c29f8",
   "metadata": {},
   "source": [
    "$$\\bar{y}$$ is the mean value of y"
   ]
  },
  {
   "cell_type": "code",
   "execution_count": 14,
   "id": "a9040ec0-1b07-4b31-b1c2-1780d1913c55",
   "metadata": {},
   "outputs": [],
   "source": [
    "import numpy as np "
   ]
  },
  {
   "cell_type": "code",
   "execution_count": 15,
   "id": "829dbb4b-a0ce-49ca-a61c-4405525eeebd",
   "metadata": {},
   "outputs": [],
   "source": [
    "x=np.array([4,6,9,12])\n",
    "y=np.array([40,55,85,110])\n",
    "n=len(x)\n"
   ]
  },
  {
   "cell_type": "code",
   "execution_count": 16,
   "id": "71d780e0-37db-46c6-920f-7d99ac806a7c",
   "metadata": {},
   "outputs": [
    {
     "data": {
      "text/plain": [
       "4"
      ]
     },
     "execution_count": 16,
     "metadata": {},
     "output_type": "execute_result"
    }
   ],
   "source": [
    "n"
   ]
  },
  {
   "cell_type": "code",
   "execution_count": null,
   "id": "f2a8d27b-8238-4af5-81aa-96b61a0150b3",
   "metadata": {},
   "outputs": [],
   "source": [
    "**"
   ]
  },
  {
   "cell_type": "code",
   "execution_count": 13,
   "id": "8512406d-27bb-4693-be85-0cb2dc870c0f",
   "metadata": {},
   "outputs": [
    {
     "name": "stdout",
     "output_type": "stream",
     "text": [
      "3.4353741496598644\n"
     ]
    }
   ],
   "source": [
    "def intercept_b(x,y):\n",
    "    x_mean=np.mean(x)\n",
    "    y_mean=np.mean(y)            #value of intercept b\n",
    "    result=y_mean-((m)*x_mean)      \n",
    "    return result\n",
    "b=intercept_b(x,y)\n",
    "print(b)"
   ]
  },
  {
   "cell_type": "code",
   "execution_count": null,
   "id": "e2592f78-c2c0-4c42-b2a5-210d6ce598a0",
   "metadata": {},
   "outputs": [],
   "source": []
  }
 ],
 "metadata": {
  "kernelspec": {
   "display_name": "Python 3 (ipykernel)",
   "language": "python",
   "name": "python3"
  },
  "language_info": {
   "codemirror_mode": {
    "name": "ipython",
    "version": 3
   },
   "file_extension": ".py",
   "mimetype": "text/x-python",
   "name": "python",
   "nbconvert_exporter": "python",
   "pygments_lexer": "ipython3",
   "version": "3.11.7"
  }
 },
 "nbformat": 4,
 "nbformat_minor": 5
}
