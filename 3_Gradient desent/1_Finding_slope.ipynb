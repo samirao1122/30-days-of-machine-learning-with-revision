{
 "cells": [
  {
   "cell_type": "markdown",
   "id": "d9032f85-f572-4b0c-830f-fcd6595aba0d",
   "metadata": {},
   "source": [
    "<h1>Slope Formula\n",
    "</h1>"
   ]
  },
  {
   "cell_type": "markdown",
   "id": "3ad4c959-bd55-41bb-8c68-82f33dd8a035",
   "metadata": {},
   "source": [
    "The formula to compute \n",
    "𝛽\n",
    "1\n",
    "β \n",
    "1\n",
    "​\n",
    "  (slope) is:"
   ]
  },
  {
   "cell_type": "markdown",
   "id": "eebb9c36-1f61-4681-b338-961d05cc24e6",
   "metadata": {},
   "source": [
    "**$$\n",
    " m= \\frac{ n \\sum x_i y_i - \\sum x_i \\sum y_i }{ n \\sum x_i^2 - (\\sum x_i)^2 }\n",
    "$$**\n"
   ]
  },
  {
   "cell_type": "markdown",
   "id": "3fce90cc-30bb-4355-950b-13a9942ba66e",
   "metadata": {},
   "source": [
    "**where:**"
   ]
  },
  {
   "cell_type": "markdown",
   "id": "7de5d232-1c8b-4269-83b8-ad37fc472ff7",
   "metadata": {},
   "source": [
    "n=is the number of data points."
   ]
  },
  {
   "cell_type": "markdown",
   "id": "c51b3c21-fdf5-4f8d-9e13-472d6ad93a94",
   "metadata": {},
   "source": [
    "xi and 𝑦𝑖 represent each individual data point’s x and y values."
   ]
  },
  {
   "cell_type": "markdown",
   "id": "76abc341-10f2-4723-aad2-22a3195e0ec6",
   "metadata": {},
   "source": [
    "​∑xi is the sum of all 𝑥 values."
   ]
  },
  {
   "cell_type": "markdown",
   "id": "8234203f-aed5-4a87-be4e-e721631aef8b",
   "metadata": {},
   "source": [
    "∑yi ​is the sum of all 𝑦 values."
   ]
  },
  {
   "cell_type": "markdown",
   "id": "c86a35a7-9d64-4904-ad3d-0725d95e05a4",
   "metadata": {},
   "source": [
    "∑(xi**2) is the sum of the squares of each x value."
   ]
  },
  {
   "cell_type": "code",
   "execution_count": 1,
   "id": "134193c1-0f98-4856-aabb-15b72af24f80",
   "metadata": {},
   "outputs": [],
   "source": [
    "import numpy as np "
   ]
  },
  {
   "cell_type": "code",
   "execution_count": 2,
   "id": "cd19e550-ec06-4149-aa92-afae3847c3c7",
   "metadata": {},
   "outputs": [],
   "source": [
    "x=np.array([4,6,9,12])\n",
    "y=np.array([40,55,85,110])\n",
    "n=len(x)"
   ]
  },
  {
   "cell_type": "code",
   "execution_count": 3,
   "id": "aa23b6a0-17f1-47bb-a988-1244402b7b0d",
   "metadata": {},
   "outputs": [],
   "source": [
    "def finding_slope(x,y,n):\n",
    "    sum_x=np.sum(x)\n",
    "    sum_y=np.sum(y)\n",
    "    sum_x_y=np.sum(x*y)\n",
    "    numenator=(n*(sum_x_y))-(sum_x*sum_y)\n",
    "\n",
    "    square_x=x*x\n",
    "    square_sum_x=np.sum(square_x)\n",
    "    sum_square_x=sum_x*sum_x\n",
    "    denominator=(n*(square_sum_x)-sum_square_x)\n",
    "    slope=numenator/denominator\n",
    "    return slope\n",
    "        "
   ]
  },
  {
   "cell_type": "code",
   "execution_count": 4,
   "id": "f670c612-fc30-47f3-94ba-1f0cff9ca559",
   "metadata": {},
   "outputs": [],
   "source": [
    "m=finding_slope(x,y,n)"
   ]
  },
  {
   "cell_type": "code",
   "execution_count": 5,
   "id": "3178fa05-8848-435e-914e-9eaefbb1c7d8",
   "metadata": {},
   "outputs": [
    {
     "data": {
      "text/plain": [
       "8.91156462585034"
      ]
     },
     "execution_count": 5,
     "metadata": {},
     "output_type": "execute_result"
    }
   ],
   "source": [
    "m\n"
   ]
  },
  {
   "cell_type": "code",
   "execution_count": null,
   "id": "5cb3e150-f303-4819-a5e4-c7e80aed85df",
   "metadata": {},
   "outputs": [],
   "source": []
  },
  {
   "cell_type": "code",
   "execution_count": null,
   "id": "d7e9bbc1-0542-469d-8eff-f8fb57de0fd9",
   "metadata": {},
   "outputs": [],
   "source": []
  },
  {
   "cell_type": "code",
   "execution_count": null,
   "id": "06240b99-2914-406b-9081-565879e46f7d",
   "metadata": {},
   "outputs": [],
   "source": []
  }
 ],
 "metadata": {
  "kernelspec": {
   "display_name": "Python 3 (ipykernel)",
   "language": "python",
   "name": "python3"
  },
  "language_info": {
   "codemirror_mode": {
    "name": "ipython",
    "version": 3
   },
   "file_extension": ".py",
   "mimetype": "text/x-python",
   "name": "python",
   "nbconvert_exporter": "python",
   "pygments_lexer": "ipython3",
   "version": "3.11.7"
  }
 },
 "nbformat": 4,
 "nbformat_minor": 5
}
